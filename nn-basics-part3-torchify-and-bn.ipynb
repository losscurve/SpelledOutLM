{
 "cells": [
  {
   "cell_type": "code",
   "execution_count": 2,
   "id": "c6b732ac",
   "metadata": {},
   "outputs": [
    {
     "name": "stdout",
     "output_type": "stream",
     "text": [
      "Rachel Green\n",
      "Well, can I keep the presents and still be 29?\n"
     ]
    }
   ],
   "source": [
    "import os\n",
    "from convokit import Corpus, download\n",
    "\n",
    "filename = \"~/.convokit/downloads/friends-corpus\"\n",
    "# corpus = Corpus(download('friends-corpus'))\n",
    "corpus = Corpus(filename=os.path.expanduser(filename))\n",
    "\n",
    "utterance = corpus.get_utterance('s07_e14_c01_u018')\n",
    "print(utterance.speaker.id)\n",
    "print(utterance.text)"
   ]
  },
  {
   "cell_type": "code",
   "execution_count": 3,
   "id": "944e8926",
   "metadata": {},
   "outputs": [
    {
     "data": {
      "text/plain": [
       "\"There's nothing to tell! He's just some guy I work with!\""
      ]
     },
     "execution_count": 3,
     "metadata": {},
     "output_type": "execute_result"
    }
   ],
   "source": [
    "import re\n",
    "re_pattern = \"[^0-9a-zA-Z,.?!' ]\"\n",
    "\n",
    "def get_example(utterance):\n",
    "    speaker = utterance.speaker.id\n",
    "    if speaker == \"TRANSCRIPT_NOTE\":\n",
    "        # Only interested in conversations\n",
    "        return ''\n",
    "    # Limit vocabulary to 0-9, a-z, A-Z, and some punctuations (,.?!)\n",
    "    return re.sub(re_pattern, '', utterance.text)\n",
    "\n",
    "examples = list(map(get_example, corpus.iter_utterances()))\n",
    "examples[0]"
   ]
  },
  {
   "cell_type": "markdown",
   "id": "07cafde3",
   "metadata": {},
   "source": [
    "## Build the vocabulary"
   ]
  },
  {
   "cell_type": "code",
   "execution_count": 4,
   "id": "263db3ac",
   "metadata": {},
   "outputs": [
    {
     "name": "stdout",
     "output_type": "stream",
     "text": [
      "Dictionary size: 68\n",
      "{' ': 1, '!': 2, \"'\": 3, ',': 4, '.': 5, '0': 6, '1': 7, '2': 8, '3': 9, '4': 10, '5': 11, '6': 12, '7': 13, '8': 14, '9': 15, '?': 16, 'A': 17, 'B': 18, 'C': 19, 'D': 20, 'E': 21, 'F': 22, 'G': 23, 'H': 24, 'I': 25, 'J': 26, 'K': 27, 'L': 28, 'M': 29, 'N': 30, 'O': 31, 'P': 32, 'Q': 33, 'R': 34, 'S': 35, 'T': 36, 'U': 37, 'V': 38, 'W': 39, 'X': 40, 'Y': 41, 'Z': 42, 'a': 43, 'b': 44, 'c': 45, 'd': 46, 'e': 47, 'f': 48, 'g': 49, 'h': 50, 'i': 51, 'j': 52, 'k': 53, 'l': 54, 'm': 55, 'n': 56, 'o': 57, 'p': 58, 'q': 59, 'r': 60, 's': 61, 't': 62, 'u': 63, 'v': 64, 'w': 65, 'x': 66, 'y': 67, 'z': 68}\n"
     ]
    }
   ],
   "source": [
    "all_characters = set([])\n",
    "for example in examples:\n",
    "    all_characters.update(list(example))\n",
    "all_characters = list(all_characters)\n",
    "print(\"Dictionary size:\", len(all_characters))\n",
    "\n",
    "stoi = {s:i + 1 for i, s in enumerate(sorted(all_characters))}\n",
    "itos = {i:s for s, i in stoi.items()}\n",
    "print(stoi)"
   ]
  },
  {
   "cell_type": "markdown",
   "id": "20e0c9ac",
   "metadata": {},
   "source": [
    "## Build the dataset"
   ]
  },
  {
   "cell_type": "code",
   "execution_count": 5,
   "id": "3034dba9",
   "metadata": {},
   "outputs": [],
   "source": [
    "import torch\n",
    "import torch.nn.functional as F\n",
    "\n",
    "SPECIAL_SE = '@'\n",
    "stoi[SPECIAL_SE] = 0\n",
    "itos[0] = SPECIAL_SE\n",
    "\n",
    "block_size = 3\n",
    "\n",
    "def build_dataset(words):\n",
    "    X, Y = [], []\n",
    "\n",
    "    for w in words:\n",
    "        context = [0] * block_size\n",
    "        for c in w + '@':\n",
    "            ix = stoi[c]\n",
    "            X.append(context)\n",
    "            Y.append(ix)\n",
    "            context = context[1:] + [ix] # 'abcd' -> 'bcde'\n",
    "\n",
    "    X = torch.tensor(X)\n",
    "    Y = torch.tensor(Y)\n",
    "    print(X.shape, Y.shape)\n",
    "    return X, Y"
   ]
  },
  {
   "cell_type": "code",
   "execution_count": 6,
   "id": "9889d8c5",
   "metadata": {},
   "outputs": [
    {
     "name": "stdout",
     "output_type": "stream",
     "text": [
      "torch.Size([2605041, 3]) torch.Size([2605041])\n",
      "torch.Size([317795, 3]) torch.Size([317795])\n",
      "torch.Size([327782, 3]) torch.Size([327782])\n"
     ]
    }
   ],
   "source": [
    "import random\n",
    "random.seed(42)\n",
    "random.shuffle(examples)\n",
    "\n",
    "n1 = int(0.8 * len(examples))\n",
    "n2 = int(0.9 * len(examples))\n",
    "Xtr, Ytr = build_dataset(examples[:n1])\n",
    "Xval, Yval = build_dataset(examples[n1:n2])\n",
    "Xtest, Ytest = build_dataset(examples[n2:])"
   ]
  },
  {
   "cell_type": "markdown",
   "id": "34451c71",
   "metadata": {},
   "source": [
    "## \"Torchify\" our implementations\n",
    "\n",
    "Make our implementation follows the API design in PyTorch, e.g.,\n",
    "```python\n",
    "model = torch.nn.Sequential(\n",
    "    torch.nn.Conv2d(1,20,5),\n",
    "    torch.nn.ReLU(),\n",
    "    torch.nn.Conv2d(20,64,5),\n",
    "    torch.nn.ReLU()\n",
    ")\n",
    "\n",
    "```"
   ]
  },
  {
   "cell_type": "code",
   "execution_count": 12,
   "id": "7fb73946",
   "metadata": {},
   "outputs": [],
   "source": [
    "# Linear model, i.e. x @ W + b\n",
    "class Linear:\n",
    "    def __init__(self, fan_in, fan_out, bias=True):\n",
    "        self.weight = torch.randn((fan_in, fan_out))\n",
    "        self.bias = torch.zeros(fan_out) if bias else None\n",
    "\n",
    "    def __call__(self, x):\n",
    "        self.out = x @ self.weight\n",
    "        if self.bias is not None:\n",
    "            self.out += self.bias\n",
    "        return self.out\n",
    "\n",
    "    def parameters(self):\n",
    "        return [self.weight] + ([] if self.bias is None else [self.bias])\n",
    "\n",
    "class Tanh:\n",
    "    def __call__(self, x):\n",
    "        self.out = torch.tanh(x)\n",
    "        return self.out\n",
    "\n",
    "    def parameters(self):\n",
    "        return []\n",
    "\n",
    "# Map the context characters to an embedding vector\n",
    "class Embedding:\n",
    "    def __init__(self, vocab_size, embedding_dim):\n",
    "        self.embedding_dim = embedding_dim\n",
    "        self.weight = torch.randn((vocab_size, embedding_dim))\n",
    "\n",
    "    def __call__(self, x):\n",
    "        self.out = self.weight[x]\n",
    "        return self.out\n",
    "\n",
    "    def parameters(self):\n",
    "        return [self.weight]\n",
    "\n",
    "\n",
    "# Concatenate the embedding of all context characters\n",
    "class Concat:\n",
    "    def __init__(self, block_size):\n",
    "        self.block_size = block_size\n",
    "\n",
    "    def __call__(self, x):\n",
    "        B, T, C = x.shape\n",
    "        assert(T == self.block_size)\n",
    "        self.out = x.view(-1, T * C)\n",
    "        return self.out\n",
    "\n",
    "    def parameters(self):\n",
    "        return []"
   ]
  },
  {
   "cell_type": "markdown",
   "id": "493a5a08",
   "metadata": {},
   "source": [
    "## Batch normalization\n",
    "\n",
    "The main benefit of batch normalization (BN) is to reduce internal covariate shift.\n",
    "\n",
    "**Internal Covariate Shift:** It means the distributions of each layer's inputs change during training as we adjust the weights and biases from backpropagation. This distribution shift is problematic because it forces downstream layers to continuously adapt, slowing down training and complicating convergence to an optimal solution.\n",
    "\n",
    "**How Batch Normalization Helps:**\n",
    "BN normalizes the inputs to each layer. The input to layers has a consistent mean and variance so that each layer doesn't have to keep readjusting to new input distributions, allowing for more stable and faster training."
   ]
  },
  {
   "cell_type": "code",
   "execution_count": 13,
   "id": "536f53c9",
   "metadata": {},
   "outputs": [],
   "source": [
    "class BatchNorm1d:\n",
    "    def __init__(self, dim, eps=1e-5, momentum=0.1):\n",
    "        self.eps = eps\n",
    "        self.momentum = momentum\n",
    "        self.training = True\n",
    "        # parameters\n",
    "        self.gamma = torch.ones(dim)\n",
    "        self.beta = torch.zeros(dim)\n",
    "        # moving average\n",
    "        self.running_mean = torch.zeros(dim)\n",
    "        self.running_var = torch.ones(dim)\n",
    "\n",
    "    def __call__(self, x):\n",
    "        # forward pass\n",
    "        if self.training:\n",
    "            xmean = x.mean(dim=0, keepdim=True)\n",
    "            xvar = x.var(dim=0, keepdim=True)\n",
    "        else:\n",
    "            xmean = self.running_mean\n",
    "            xvar = self.running_var\n",
    "        # normalize input\n",
    "        xhat = (x - xmean) / torch.sqrt(xvar + self.eps)\n",
    "        self.out = self.gamma * xhat + self.beta\n",
    "        # update moving average\n",
    "        if self.training:\n",
    "            with torch.no_grad():\n",
    "                self.running_mean = self.momentum * xmean + (1 - self.momentum) * self.running_mean\n",
    "                self.running_var = self.momentum * xvar + (1 - self.momentum) * self.running_var\n",
    "        return self.out\n",
    "\n",
    "    def parameters(self):\n",
    "        return [self.gamma, self.beta]"
   ]
  },
  {
   "cell_type": "markdown",
   "id": "2ffa2298",
   "metadata": {},
   "source": [
    "## Build a deeper network"
   ]
  },
  {
   "cell_type": "code",
   "execution_count": 16,
   "metadata": {},
   "outputs": [
    {
     "name": "stdout",
     "output_type": "stream",
     "text": [
      "41459\n"
     ]
    }
   ],
   "source": [
    "n_embed = 10\n",
    "n_hidden = 100\n",
    "vocab_size = len(stoi)\n",
    "\n",
    "model = [\n",
    "    Embedding(vocab_size, n_embed), Concat(block_size),\n",
    "    Linear(n_embed * block_size, n_hidden, bias=False), BatchNorm1d(n_hidden), Tanh(),\n",
    "    Linear(            n_hidden, n_hidden, bias=False), BatchNorm1d(n_hidden), Tanh(),\n",
    "    Linear(            n_hidden, n_hidden, bias=False), BatchNorm1d(n_hidden), Tanh(),\n",
    "    Linear(            n_hidden, n_hidden, bias=False), BatchNorm1d(n_hidden), Tanh(),\n",
    "    Linear(n_hidden, vocab_size),\n",
    "]\n",
    "\n",
    "parameters = [p for layer in model for p in layer.parameters()]\n",
    "print(sum(p.nelement() for p in parameters))\n",
    "for p in parameters:\n",
    "    p.requires_grad = True"
   ]
  },
  {
   "cell_type": "code",
   "execution_count": 23,
   "metadata": {},
   "outputs": [
    {
     "name": "stdout",
     "output_type": "stream",
     "text": [
      "200000 1.8845503330230713\n",
      "201000 1.9302845001220703\n",
      "202000 1.7850219011306763\n",
      "203000 1.6162630319595337\n",
      "204000 2.072871685028076\n",
      "205000 2.4437003135681152\n",
      "206000 1.27915620803833\n",
      "207000 1.4510880708694458\n",
      "208000 1.9287217855453491\n",
      "209000 1.5703084468841553\n",
      "210000 1.5282533168792725\n",
      "211000 1.454378604888916\n",
      "212000 1.917089581489563\n",
      "213000 1.93467116355896\n",
      "214000 1.58807373046875\n",
      "215000 1.613409161567688\n",
      "216000 1.7341368198394775\n",
      "217000 1.2640281915664673\n",
      "218000 1.782745599746704\n",
      "219000 1.8351987600326538\n",
      "220000 1.3830233812332153\n",
      "221000 1.4925309419631958\n",
      "222000 1.5054957866668701\n",
      "223000 1.711880087852478\n",
      "224000 1.4011919498443604\n",
      "225000 1.6500146389007568\n",
      "226000 1.5068219900131226\n",
      "227000 1.2554322481155396\n",
      "228000 1.7855569124221802\n",
      "229000 1.334743857383728\n",
      "230000 2.2713375091552734\n",
      "231000 1.290276050567627\n",
      "232000 1.5752860307693481\n",
      "233000 1.8081388473510742\n",
      "234000 1.8058013916015625\n",
      "235000 2.0154690742492676\n",
      "236000 1.6758646965026855\n",
      "237000 1.4697726964950562\n",
      "238000 1.6846779584884644\n",
      "239000 2.5766358375549316\n",
      "240000 1.866615653038025\n",
      "241000 1.580709457397461\n",
      "242000 1.5871506929397583\n",
      "243000 1.8697983026504517\n",
      "244000 1.792367935180664\n",
      "245000 2.093463659286499\n",
      "246000 1.7411915063858032\n",
      "247000 1.578386664390564\n",
      "248000 1.4660539627075195\n",
      "249000 1.8493274450302124\n",
      "250000 2.0150513648986816\n",
      "251000 2.0924899578094482\n",
      "252000 1.1990474462509155\n",
      "253000 1.5931458473205566\n",
      "254000 1.4614461660385132\n",
      "255000 1.8450524806976318\n",
      "256000 1.3362510204315186\n",
      "257000 1.4134007692337036\n",
      "258000 1.3550666570663452\n",
      "259000 1.4271067380905151\n",
      "260000 1.8380846977233887\n",
      "261000 1.3855875730514526\n",
      "262000 1.763763427734375\n",
      "263000 1.3992805480957031\n",
      "264000 2.0304982662200928\n",
      "265000 1.7230772972106934\n",
      "266000 1.688194751739502\n",
      "267000 1.1991785764694214\n",
      "268000 1.7597581148147583\n",
      "269000 1.4059867858886719\n",
      "270000 1.7035739421844482\n",
      "271000 2.090651035308838\n",
      "272000 1.7701373100280762\n",
      "273000 1.6839619874954224\n",
      "274000 1.4486298561096191\n",
      "275000 1.3282467126846313\n",
      "276000 1.9711065292358398\n",
      "277000 1.8929345607757568\n",
      "278000 1.5510388612747192\n",
      "279000 1.3276708126068115\n",
      "280000 1.8820167779922485\n",
      "281000 1.7953886985778809\n",
      "282000 1.6140955686569214\n",
      "283000 1.657628059387207\n",
      "284000 1.8084073066711426\n",
      "285000 1.7132080793380737\n",
      "286000 1.9485951662063599\n",
      "287000 1.4297516345977783\n",
      "288000 1.5125943422317505\n",
      "289000 1.289823293685913\n",
      "290000 1.7109731435775757\n",
      "291000 1.5567359924316406\n",
      "292000 1.751715898513794\n",
      "293000 1.725664496421814\n",
      "294000 1.5855860710144043\n",
      "295000 1.3043395280838013\n",
      "296000 1.5588054656982422\n",
      "297000 1.5648921728134155\n",
      "298000 1.9987907409667969\n",
      "299000 1.2575520277023315\n"
     ]
    }
   ],
   "source": [
    "max_steps = 200000\n",
    "batch_size = 32\n",
    "lossi = []\n",
    "\n",
    "for i in range(max_steps):\n",
    "    ix = torch.randint(len(Xtr), (batch_size,))\n",
    "    Xb, Yb = Xtr[ix], Ytr[ix]\n",
    "\n",
    "    # forward pass\n",
    "    for layer in model:\n",
    "        Xb = layer(Xb)\n",
    "    loss = F.cross_entropy(Xb, Yb)\n",
    "\n",
    "    # backward pass\n",
    "    for p in parameters:\n",
    "        p.grad = None\n",
    "    loss.backward()\n",
    "\n",
    "    # gradient descent\n",
    "    lr = 0.1 if i < 100000 else 0.01\n",
    "    with torch.no_grad():\n",
    "        for p in parameters:\n",
    "            p -= lr * p.grad\n",
    "\n",
    "    lossi.append(loss.item())\n",
    "    if i % 1000 == 0:\n",
    "        print(i, loss.item())\n",
    "\n",
    "    # Remove after making sure the code works\n",
    "    # if i >= 5000:\n",
    "    #     break"
   ]
  },
  {
   "cell_type": "code",
   "execution_count": 24,
   "metadata": {},
   "outputs": [
    {
     "data": {
      "text/plain": [
       "[<matplotlib.lines.Line2D at 0x2a9459d20>]"
      ]
     },
     "execution_count": 24,
     "metadata": {},
     "output_type": "execute_result"
    },
    {
     "data": {
      "image/png": "[encoded data removed]",
      "text/plain": [
       "<Figure size 640x480 with 1 Axes>"
      ]
     },
     "metadata": {},
     "output_type": "display_data"
    }
   ],
   "source": [
    "from matplotlib import pyplot as plt\n",
    "%matplotlib inline\n",
    "\n",
    "plt.plot(\n",
    "    # lossi\n",
    "    torch.tensor(lossi).view(-1, 100).mean(dim=1).flatten().tolist()\n",
    ")"
   ]
  },
  {
   "cell_type": "markdown",
   "metadata": {},
   "source": [
    "## Evaluation"
   ]
  },
  {
   "cell_type": "code",
   "execution_count": 25,
   "metadata": {},
   "outputs": [],
   "source": [
    "for layer in model:\n",
    "    layer.training = False"
   ]
  },
  {
   "cell_type": "code",
   "execution_count": 26,
   "metadata": {},
   "outputs": [
    {
     "data": {
      "text/plain": [
       "(1.647695541381836, 1.643833875656128)"
      ]
     },
     "execution_count": 26,
     "metadata": {},
     "output_type": "execute_result"
    }
   ],
   "source": [
    "def evaluation(X, Y):\n",
    "    with torch.no_grad():\n",
    "        for layer in model:\n",
    "            X = layer(X)\n",
    "        loss = F.cross_entropy(X, Y)\n",
    "    return loss.item()\n",
    "\n",
    "evaluation(Xtr, Ytr), evaluation(Xval, Yval)"
   ]
  },
  {
   "cell_type": "code",
   "execution_count": 27,
   "metadata": {},
   "outputs": [
    {
     "name": "stdout",
     "output_type": "stream",
     "text": [
      "Well, weur for them I do procpeld be tj5.\n",
      "Ther!\n",
      "No? Phey my God to got it's fant elk, I'm you.\n",
      "Yef!\n",
      "I reat you know, y'know what?\n",
      "\n",
      "It's on, sharrin at Martor!\n",
      "I ther.\n",
      "Hi!\n",
      "So, what time for my Give wortry my God, itipe'll me!\n"
     ]
    }
   ],
   "source": [
    "for _ in range(10):\n",
    "    out = []\n",
    "    context = [0] * block_size\n",
    "    while True:\n",
    "        X = torch.tensor([context]) # (1, block_size)\n",
    "        with torch.no_grad():\n",
    "            for layer in model:\n",
    "                X = layer(X)\n",
    "            prob = F.softmax(X, dim=1)\n",
    "            ix = torch.multinomial(prob, num_samples=1).item()\n",
    "        context = context[1:] + [ix]\n",
    "        if ix == 0:\n",
    "            break\n",
    "        out.append(ix)\n",
    "    print(''.join([itos[i] for i in out]))"
   ]
  },
  {
   "cell_type": "code",
   "execution_count": null,
   "metadata": {},
   "outputs": [],
   "source": []
  }
 ],
 "metadata": {
  "kernelspec": {
   "display_name": "Python 3 (ipykernel)",
   "language": "python",
   "name": "python3"
  },
  "language_info": {
   "codemirror_mode": {
    "name": "ipython",
    "version": 3
   },
   "file_extension": ".py",
   "mimetype": "text/x-python",
   "name": "python",
   "nbconvert_exporter": "python",
   "pygments_lexer": "ipython3",
   "version": "3.10.13"
  }
 },
 "nbformat": 4,
 "nbformat_minor": 5
}
