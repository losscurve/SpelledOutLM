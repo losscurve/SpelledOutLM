{
 "cells": [
  {
   "cell_type": "code",
   "execution_count": 11,
   "id": "c6b732ac",
   "metadata": {},
   "outputs": [
    {
     "name": "stdout",
     "output_type": "stream",
     "text": [
      "Rachel Green\n",
      "Well, can I keep the presents and still be 29?\n"
     ]
    }
   ],
   "source": [
    "import os\n",
    "from convokit import Corpus, download\n",
    "\n",
    "filename = \"~/.convokit/downloads/friends-corpus\"\n",
    "corpus = Corpus(filename=os.path.expanduser(filename))\n",
    "\n",
    "utterance = corpus.get_utterance('s07_e14_c01_u018')\n",
    "print(utterance.speaker.id)\n",
    "print(utterance.text)"
   ]
  },
  {
   "cell_type": "code",
   "execution_count": 12,
   "id": "944e8926",
   "metadata": {},
   "outputs": [
    {
     "data": {
      "text/plain": [
       "\"There's nothing to tell! He's just some guy I work with!\""
      ]
     },
     "execution_count": 12,
     "metadata": {},
     "output_type": "execute_result"
    }
   ],
   "source": [
    "import re\n",
    "re_pattern = \"[^0-9a-zA-Z,.?!' ]\"\n",
    "\n",
    "def get_example(utterance):\n",
    "    speaker = utterance.speaker.id\n",
    "    if speaker == \"TRANSCRIPT_NOTE\":\n",
    "        # Only interested in conversations\n",
    "        return ''\n",
    "    # Limit vocabulary to 0-9, a-z, A-Z, and some punctuations (,.?!)\n",
    "    return re.sub(re_pattern, '', utterance.text)\n",
    "\n",
    "examples = list(map(get_example, corpus.iter_utterances()))\n",
    "examples[0]"
   ]
  },
  {
   "cell_type": "markdown",
   "id": "07cafde3",
   "metadata": {},
   "source": [
    "## Build the vocabulary"
   ]
  },
  {
   "cell_type": "code",
   "execution_count": 13,
   "id": "263db3ac",
   "metadata": {},
   "outputs": [
    {
     "name": "stdout",
     "output_type": "stream",
     "text": [
      "Dictionary size: 68\n",
      "{' ': 1, '!': 2, \"'\": 3, ',': 4, '.': 5, '0': 6, '1': 7, '2': 8, '3': 9, '4': 10, '5': 11, '6': 12, '7': 13, '8': 14, '9': 15, '?': 16, 'A': 17, 'B': 18, 'C': 19, 'D': 20, 'E': 21, 'F': 22, 'G': 23, 'H': 24, 'I': 25, 'J': 26, 'K': 27, 'L': 28, 'M': 29, 'N': 30, 'O': 31, 'P': 32, 'Q': 33, 'R': 34, 'S': 35, 'T': 36, 'U': 37, 'V': 38, 'W': 39, 'X': 40, 'Y': 41, 'Z': 42, 'a': 43, 'b': 44, 'c': 45, 'd': 46, 'e': 47, 'f': 48, 'g': 49, 'h': 50, 'i': 51, 'j': 52, 'k': 53, 'l': 54, 'm': 55, 'n': 56, 'o': 57, 'p': 58, 'q': 59, 'r': 60, 's': 61, 't': 62, 'u': 63, 'v': 64, 'w': 65, 'x': 66, 'y': 67, 'z': 68}\n"
     ]
    }
   ],
   "source": [
    "all_characters = set([])\n",
    "for example in examples:\n",
    "    all_characters.update(list(example))\n",
    "all_characters = list(all_characters)\n",
    "print(\"Dictionary size:\", len(all_characters))\n",
    "\n",
    "stoi = {s:i + 1 for i, s in enumerate(sorted(all_characters))}\n",
    "itos = {i:s for s, i in stoi.items()}\n",
    "print(stoi)"
   ]
  },
  {
   "cell_type": "markdown",
   "id": "20e0c9ac",
   "metadata": {},
   "source": [
    "## Build the dataset"
   ]
  },
  {
   "cell_type": "code",
   "execution_count": 14,
   "id": "3034dba9",
   "metadata": {},
   "outputs": [],
   "source": [
    "import torch\n",
    "import torch.nn.functional as F\n",
    "\n",
    "SPECIAL_SE = '@'\n",
    "stoi[SPECIAL_SE] = 0\n",
    "itos[0] = SPECIAL_SE\n",
    "\n",
    "\n",
    "def build_dataset(words, block_size):\n",
    "    X, Y = [], []\n",
    "\n",
    "    for w in words:\n",
    "        context = [0] * block_size\n",
    "        for c in w + '@':\n",
    "            ix = stoi[c]\n",
    "            X.append(context)\n",
    "            Y.append(ix)\n",
    "            context = context[1:] + [ix] # 'abcd' -> 'bcde'\n",
    "\n",
    "    X = torch.tensor(X)\n",
    "    Y = torch.tensor(Y)\n",
    "    print(X.shape, Y.shape)\n",
    "    return X, Y"
   ]
  }
 ],
 "metadata": {
  "kernelspec": {
   "display_name": "Python 3 (ipykernel)",
   "language": "python",
   "name": "python3"
  },
  "language_info": {
   "codemirror_mode": {
    "name": "ipython",
    "version": 3
   },
   "file_extension": ".py",
   "mimetype": "text/x-python",
   "name": "python",
   "nbconvert_exporter": "python",
   "pygments_lexer": "ipython3",
   "version": "3.10.13"
  }
 },
 "nbformat": 4,
 "nbformat_minor": 5
}
