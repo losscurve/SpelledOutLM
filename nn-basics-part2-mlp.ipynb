{
 "cells": [
  {
   "cell_type": "code",
   "execution_count": 2,
   "id": "c6b732ac",
   "metadata": {},
   "outputs": [
    {
     "name": "stdout",
     "output_type": "stream",
     "text": [
      "Dataset already exists at /Users/arapat/.convokit/downloads/friends-corpus\n",
      "Rachel Green\n",
      "Well, can I keep the presents and still be 29?\n"
     ]
    }
   ],
   "source": [
    "from convokit import Corpus, download\n",
    "\n",
    "corpus = Corpus(download('friends-corpus'))\n",
    "\n",
    "utterance = corpus.get_utterance('s07_e14_c01_u018')\n",
    "print(utterance.speaker.id)\n",
    "print(utterance.text)"
   ]
  },
  {
   "cell_type": "code",
   "execution_count": 3,
   "id": "944e8926",
   "metadata": {},
   "outputs": [
    {
     "data": {
      "text/plain": [
       "\"There's nothing to tell! He's just some guy I work with!\""
      ]
     },
     "execution_count": 3,
     "metadata": {},
     "output_type": "execute_result"
    }
   ],
   "source": [
    "import re\n",
    "re_pattern = \"[^0-9a-zA-Z,.?!' ]\"\n",
    "\n",
    "def get_example(utterance):\n",
    "    speaker = utterance.speaker.id\n",
    "    if speaker == \"TRANSCRIPT_NOTE\":\n",
    "        # Only interested in conversations\n",
    "        return ''\n",
    "    # Limit vocabulary to 0-9, a-z, A-Z, and some punctuations (,.?!)\n",
    "    return re.sub(re_pattern, '', utterance.text)\n",
    "\n",
    "examples = list(map(get_example, corpus.iter_utterances()))\n",
    "examples[0]"
   ]
  },
  {
   "cell_type": "markdown",
   "id": "07cafde3",
   "metadata": {},
   "source": [
    "## Build the vocabulary"
   ]
  },
  {
   "cell_type": "code",
   "execution_count": 4,
   "id": "263db3ac",
   "metadata": {},
   "outputs": [
    {
     "name": "stdout",
     "output_type": "stream",
     "text": [
      "Dictionary size: 68\n",
      "{' ': 1, '!': 2, \"'\": 3, ',': 4, '.': 5, '0': 6, '1': 7, '2': 8, '3': 9, '4': 10, '5': 11, '6': 12, '7': 13, '8': 14, '9': 15, '?': 16, 'A': 17, 'B': 18, 'C': 19, 'D': 20, 'E': 21, 'F': 22, 'G': 23, 'H': 24, 'I': 25, 'J': 26, 'K': 27, 'L': 28, 'M': 29, 'N': 30, 'O': 31, 'P': 32, 'Q': 33, 'R': 34, 'S': 35, 'T': 36, 'U': 37, 'V': 38, 'W': 39, 'X': 40, 'Y': 41, 'Z': 42, 'a': 43, 'b': 44, 'c': 45, 'd': 46, 'e': 47, 'f': 48, 'g': 49, 'h': 50, 'i': 51, 'j': 52, 'k': 53, 'l': 54, 'm': 55, 'n': 56, 'o': 57, 'p': 58, 'q': 59, 'r': 60, 's': 61, 't': 62, 'u': 63, 'v': 64, 'w': 65, 'x': 66, 'y': 67, 'z': 68}\n"
     ]
    }
   ],
   "source": [
    "all_characters = set([])\n",
    "for example in examples:\n",
    "    all_characters.update(list(example))\n",
    "all_characters = list(all_characters)\n",
    "print(\"Dictionary size:\", len(all_characters))\n",
    "\n",
    "stoi = {s:i + 1 for i, s in enumerate(sorted(all_characters))}\n",
    "itos = {i:s for s, i in stoi.items()}\n",
    "print(stoi)"
   ]
  },
  {
   "cell_type": "markdown",
   "id": "20e0c9ac",
   "metadata": {},
   "source": [
    "## Build the dataset"
   ]
  },
  {
   "cell_type": "code",
   "execution_count": 5,
   "id": "3034dba9",
   "metadata": {},
   "outputs": [],
   "source": [
    "import torch\n",
    "\n",
    "SPECIAL_SE = '@'\n",
    "stoi[SPECIAL_SE] = 0\n",
    "itos[0] = SPECIAL_SE\n",
    "\n",
    "block_size = 3\n",
    "\n",
    "def build_dataset(words):\n",
    "    X, Y = [], []\n",
    "\n",
    "    for w in words:\n",
    "        context = [0] * block_size\n",
    "        for c in w + '@':\n",
    "            ix = stoi[c]\n",
    "            X.append(context)\n",
    "            Y.append(ix)\n",
    "            context = context[1:] + [ix] # 'abcd' -> 'bcde'\n",
    "\n",
    "    X = torch.tensor(X)\n",
    "    Y = torch.tensor(Y)\n",
    "    print(X.shape, Y.shape)\n",
    "    return X, Y"
   ]
  },
  {
   "cell_type": "code",
   "execution_count": 6,
   "id": "9889d8c5",
   "metadata": {},
   "outputs": [
    {
     "name": "stdout",
     "output_type": "stream",
     "text": [
      "torch.Size([2605041, 3]) torch.Size([2605041])\n",
      "torch.Size([317795, 3]) torch.Size([317795])\n",
      "torch.Size([327782, 3]) torch.Size([327782])\n"
     ]
    }
   ],
   "source": [
    "import random\n",
    "random.seed(42)\n",
    "random.shuffle(examples)\n",
    "\n",
    "n1 = int(0.8 * len(examples))\n",
    "n2 = int(0.9 * len(examples))\n",
    "Xtr, Ytr = build_dataset(examples[:n1])\n",
    "Xval, Yval = build_dataset(examples[n1:n2])\n",
    "Xtest, Ytest = build_dataset(examples[n2:])"
   ]
  },
  {
   "cell_type": "markdown",
   "id": "ca33940a",
   "metadata": {},
   "source": [
    "## Embedding of tokens"
   ]
  },
  {
   "cell_type": "code",
   "execution_count": 7,
   "id": "1e305a89",
   "metadata": {},
   "outputs": [
    {
     "data": {
      "text/plain": [
       "tensor([ 1.7204, -1.1928])"
      ]
     },
     "execution_count": 7,
     "metadata": {},
     "output_type": "execute_result"
    }
   ],
   "source": [
    "d_size = len(stoi)\n",
    "em_size = 2\n",
    "\n",
    "C = torch.randn((d_size, em_size))\n",
    "C[stoi['A']]"
   ]
  },
  {
   "cell_type": "markdown",
   "id": "b531eeff",
   "metadata": {},
   "source": [
    "## Two-layer neural network\n",
    "\n",
    "### Input layer\n",
    "\n",
    "Embedding of the context"
   ]
  },
  {
   "cell_type": "code",
   "execution_count": 8,
   "id": "5cb6c0aa",
   "metadata": {},
   "outputs": [
    {
     "data": {
      "text/plain": [
       "(tensor([65, 47, 60]), tensor(47))"
      ]
     },
     "execution_count": 8,
     "metadata": {},
     "output_type": "execute_result"
    }
   ],
   "source": [
    "X, Y = Xtr[42], Ytr[42]\n",
    "X, Y"
   ]
  },
  {
   "cell_type": "code",
   "execution_count": 9,
   "id": "155cb2d2",
   "metadata": {},
   "outputs": [
    {
     "data": {
      "text/plain": [
       "tensor([[ 0.6773, -0.3819],\n",
       "        [ 0.7818,  0.5272],\n",
       "        [-0.2190, -2.3580]])"
      ]
     },
     "execution_count": 9,
     "metadata": {},
     "output_type": "execute_result"
    }
   ],
   "source": [
    "emb = C[X]\n",
    "emb"
   ]
  },
  {
   "cell_type": "code",
   "execution_count": 10,
   "id": "9c2b92a0",
   "metadata": {},
   "outputs": [
    {
     "data": {
      "text/plain": [
       "tensor([[ 0.6773, -0.3819,  0.7818,  0.5272, -0.2190, -2.3580]])"
      ]
     },
     "execution_count": 10,
     "metadata": {},
     "output_type": "execute_result"
    }
   ],
   "source": [
    "input_size = em_size * block_size\n",
    "emb = emb.view(-1, input_size)\n",
    "emb"
   ]
  },
  {
   "cell_type": "markdown",
   "id": "bb762068",
   "metadata": {},
   "source": [
    "### Hidden layer"
   ]
  },
  {
   "cell_type": "code",
   "execution_count": 11,
   "id": "94b976a4",
   "metadata": {},
   "outputs": [
    {
     "data": {
      "text/plain": [
       "tensor([[ 0.9762,  0.9725,  0.9899,  0.1159, -0.0709, -0.9991,  0.0155,  0.6094,\n",
       "          0.6684, -0.9993, -0.9958,  0.8280, -0.9982, -0.9877,  0.8261, -0.7127,\n",
       "          1.0000, -0.8252, -0.2876, -1.0000, -1.0000, -0.4549,  0.8378, -0.9357,\n",
       "          0.9986,  0.9877, -0.6408, -0.5894,  0.9965, -0.9155, -0.7274,  0.9967,\n",
       "         -0.9968, -0.9999, -0.9347, -0.9952,  0.8432, -0.8037, -0.9997, -1.0000,\n",
       "          0.9719, -0.9982, -0.9378, -0.9907, -0.1771, -0.9900, -0.7600,  0.5972,\n",
       "         -0.7054,  0.0198, -0.9787, -0.9998,  0.0038, -0.7390,  0.9933,  0.9314,\n",
       "         -0.9987, -0.1207, -0.7094, -0.8565,  1.0000,  0.8067,  0.6317, -0.9041,\n",
       "         -1.0000, -0.8841, -0.9595, -0.9901,  0.9983, -0.9998,  0.9999, -0.9964,\n",
       "         -0.9993,  0.3661, -0.8960, -0.9777,  0.7396,  0.9736,  0.9929,  0.9764,\n",
       "          1.0000, -0.9781, -0.6658,  0.6946, -0.8949, -0.2340, -1.0000,  0.9996,\n",
       "          0.9305, -1.0000,  1.0000, -0.9999,  0.9354,  0.9988, -0.7426, -0.8859,\n",
       "         -0.9999, -0.9873,  0.6082,  0.9987]])"
      ]
     },
     "execution_count": 11,
     "metadata": {},
     "output_type": "execute_result"
    }
   ],
   "source": [
    "hidden_size = 100\n",
    "W1 = torch.randn((input_size, hidden_size))\n",
    "b1 = torch.randn(hidden_size)\n",
    "\n",
    "h = torch.tanh(emb @ W1 + b1)\n",
    "h"
   ]
  },
  {
   "cell_type": "markdown",
   "id": "467d6f44",
   "metadata": {},
   "source": [
    "### Output layer"
   ]
  },
  {
   "cell_type": "code",
   "execution_count": 12,
   "id": "99e44496",
   "metadata": {},
   "outputs": [
    {
     "data": {
      "text/plain": [
       "tensor([[1.4881e-06, 1.3118e-09, 1.1603e-12, 6.6570e-13, 4.2016e-08, 1.3106e-14,\n",
       "         8.4168e-06, 8.7374e-12, 5.1106e-08, 5.1126e-05, 6.9454e-11, 4.1680e-12,\n",
       "         4.5970e-07, 2.3943e-12, 4.4420e-18, 5.4776e-01, 2.7656e-15, 2.2016e-07,\n",
       "         2.0982e-16, 1.3982e-10, 1.3984e-09, 2.8375e-07, 1.5412e-05, 1.7094e-15,\n",
       "         1.4013e-09, 6.9126e-12, 5.3537e-07, 4.4509e-09, 7.9097e-06, 1.6776e-18,\n",
       "         1.2396e-04, 6.3879e-08, 2.0983e-14, 2.5166e-04, 1.8716e-10, 4.5544e-17,\n",
       "         2.5351e-14, 8.8083e-06, 8.6649e-14, 9.7874e-09, 5.4193e-04, 3.9023e-10,\n",
       "         2.7173e-07, 7.2328e-13, 1.1838e-04, 6.0063e-09, 5.8080e-11, 7.7031e-12,\n",
       "         1.3225e-08, 3.7106e-11, 4.5109e-01, 2.8867e-15, 2.7775e-11, 1.8286e-07,\n",
       "         1.3187e-12, 1.2098e-12, 3.5832e-09, 1.4913e-14, 4.1612e-17, 1.4464e-08,\n",
       "         1.3250e-08, 1.1387e-05, 4.0758e-10, 6.9310e-12, 5.7262e-14, 8.6427e-10,\n",
       "         2.5426e-10, 2.9251e-10, 6.2065e-06]])"
      ]
     },
     "execution_count": 12,
     "metadata": {},
     "output_type": "execute_result"
    }
   ],
   "source": [
    "W2 = torch.randn((hidden_size, d_size))\n",
    "b2 = torch.randn(d_size)\n",
    "\n",
    "logits = h @ W2 + b2\n",
    "counts = logits.exp()\n",
    "prob = counts / counts.sum(1, keepdims=True)\n",
    "prob"
   ]
  },
  {
   "cell_type": "markdown",
   "id": "61a6ce5b",
   "metadata": {},
   "source": [
    "### Loss function"
   ]
  },
  {
   "cell_type": "code",
   "execution_count": 13,
   "id": "24200234",
   "metadata": {},
   "outputs": [
    {
     "data": {
      "text/plain": [
       "tensor(25.5894)"
      ]
     },
     "execution_count": 13,
     "metadata": {},
     "output_type": "execute_result"
    }
   ],
   "source": [
    "loss = -prob[torch.arange(1), Y].log().mean()\n",
    "loss"
   ]
  },
  {
   "cell_type": "markdown",
   "id": "c8846735",
   "metadata": {},
   "source": [
    "## Putting everything together"
   ]
  },
  {
   "cell_type": "code",
   "execution_count": 14,
   "id": "244f53c4",
   "metadata": {},
   "outputs": [],
   "source": [
    "import torch.nn.functional as F\n",
    "import matplotlib.pyplot as plt\n",
    "%matplotlib inline"
   ]
  },
  {
   "cell_type": "code",
   "execution_count": 15,
   "id": "606ed2bd",
   "metadata": {},
   "outputs": [],
   "source": [
    "d_size = len(stoi)\n",
    "em_size = 2\n",
    "input_size = block_size * em_size\n",
    "hidden_size = 100\n",
    "\n",
    "C = torch.randn((d_size, em_size))\n",
    "W1 = torch.randn((input_size, hidden_size))\n",
    "b1 = torch.randn(hidden_size)\n",
    "W2 = torch.randn((hidden_size, d_size))\n",
    "b2 = torch.randn(d_size)\n",
    "parameters = [C, W1, b1, W2, b2]\n",
    "\n",
    "for p in parameters:\n",
    "    p.requires_grad = True"
   ]
  },
  {
   "cell_type": "code",
   "execution_count": 16,
   "id": "98539d6b",
   "metadata": {},
   "outputs": [
    {
     "data": {
      "text/plain": [
       "7807"
      ]
     },
     "execution_count": 16,
     "metadata": {},
     "output_type": "execute_result"
    }
   ],
   "source": [
    "sum(p.nelement() for p in parameters)"
   ]
  },
  {
   "cell_type": "code",
   "execution_count": 39,
   "id": "e17382b7",
   "metadata": {},
   "outputs": [],
   "source": [
    "# i = 0\n",
    "# lossi = []\n",
    "batch_size = 32\n",
    "for j in range(10000000):\n",
    "    i += 1\n",
    "    # mini batch\n",
    "    ix = torch.randint(0, Xtr.shape[0], (batch_size,))\n",
    "\n",
    "    # Forward pass\n",
    "    emb = C[Xtr[ix]].view(-1, input_size)\n",
    "    h = torch.tanh(emb @ W1 + b1)\n",
    "    logits = h @ W2 + b2\n",
    "    loss = F.cross_entropy(logits, Ytr[ix])\n",
    "\n",
    "    # Backward pass\n",
    "    for p in parameters:\n",
    "        p.grad = None\n",
    "    loss.backward()\n",
    "\n",
    "    # Update\n",
    "    lr = 0.001 # 0.1 if i < 100000 else 0.01 if i \n",
    "    for p in parameters:\n",
    "        p.data = p.data - lr * p.grad\n",
    "\n",
    "    lossi.append(loss.log10().item())"
   ]
  },
  {
   "cell_type": "code",
   "execution_count": 34,
   "id": "c479c21b",
   "metadata": {},
   "outputs": [
    {
     "data": {
      "text/plain": [
       "[<matplotlib.lines.Line2D at 0x2c2437fd0>]"
      ]
     },
     "execution_count": 34,
     "metadata": {},
     "output_type": "execute_result"
    },
    {
     "data": {
      "image/png": "[encoded data removed]",
      "text/plain": [
       "<Figure size 640x480 with 1 Axes>"
      ]
     },
     "metadata": {},
     "output_type": "display_data"
    }
   ],
   "source": [
    "plt.plot(\n",
    "    # lossi\n",
    "    torch.tensor(lossi).view(-1, 100).mean(dim=1).flatten().tolist()\n",
    ")"
   ]
  },
  {
   "cell_type": "code",
   "execution_count": 35,
   "id": "ed713bd8",
   "metadata": {},
   "outputs": [
    {
     "data": {
      "text/plain": [
       "(1.8061264753341675, 1.8034236431121826)"
      ]
     },
     "execution_count": 35,
     "metadata": {},
     "output_type": "execute_result"
    }
   ],
   "source": [
    "def evaluation(X, Y):\n",
    "    emb = C[X]\n",
    "    h = torch.tanh(emb.view(-1, input_size) @ W1 + b1)\n",
    "    logits = h @ W2 + b2\n",
    "    loss = F.cross_entropy(logits, Y)\n",
    "    return loss.item()\n",
    "\n",
    "# Overfit?\n",
    "evaluation(Xtr, Ytr), evaluation(Xval, Yval)"
   ]
  },
  {
   "cell_type": "markdown",
   "id": "f8610cd8",
   "metadata": {},
   "source": [
    "## Visualize embeddings"
   ]
  },
  {
   "cell_type": "code",
   "execution_count": 36,
   "id": "9fbd3b30",
   "metadata": {},
   "outputs": [
    {
     "data": {
      "image/png": "[encoded data removed]",
      "text/plain": [
       "<Figure size 800x800 with 1 Axes>"
      ]
     },
     "metadata": {},
     "output_type": "display_data"
    }
   ],
   "source": [
    "plt.figure(figsize=(8, 8))\n",
    "plt.scatter(C[:, 0].data, C[:, 1].data, s=200)\n",
    "for i in range(C.shape[0]):\n",
    "    plt.text(\n",
    "        C[i, 0].item(), C[i, 1].item(), itos[i],\n",
    "        ha=\"center\", va=\"center\", color=\"white\")\n",
    "plt.grid();"
   ]
  },
  {
   "cell_type": "markdown",
   "id": "2ef5f390",
   "metadata": {},
   "source": [
    "## Sample from mdoel"
   ]
  },
  {
   "cell_type": "code",
   "execution_count": 32,
   "id": "3bcc7e17",
   "metadata": {},
   "outputs": [
    {
     "name": "stdout",
     "output_type": "stream",
     "text": [
      "I to had greare liintey'ves wighting?\n",
      "Hi!\n",
      "Oh, it's gecgoze yow! Oh, wuen'ts kid ming! I'm not foin, tee got gabis wor is..Y'knowpeessnteswelly time be the on mut?\n",
      "And cand cangs. Yer, in if 2ig mas done tixh is. Oh ine a living timlew foan um fean, guys tway somewlegis, and in, cant we on gre anmuy? I7 ever his 1ody and no, I'm all geeken, the reach! Ano? ineding lking!\n",
      "Ceidedr think burt..\n",
      "Imbe you, I'm huct. Leededt! if cites of that how. Junicau?\n",
      "You not cecaiday, coys?\n",
      "\n",
      "That?\n",
      "I wome toney tnang okay I sriet letting you, I ceorterlerind on II helre. I hink on that afbovene tith this roben?\n"
     ]
    }
   ],
   "source": [
    "for _ in range(10):\n",
    "    out = []\n",
    "    context = [0] * block_size\n",
    "    while True:\n",
    "        emb = C[torch.tensor([context])]\n",
    "        h = torch.tanh(emb.view(-1, input_size) @ W1 + b1)\n",
    "        logits = h @ W2 + b2\n",
    "        prob = F.softmax(logits, dim=1)\n",
    "        ix = torch.multinomial(prob, num_samples=1).item()\n",
    "        context = context[1:] + [ix]\n",
    "        if ix == 0:\n",
    "            break\n",
    "        out.append(ix)\n",
    "    print(''.join([itos[i] for i in out]))"
   ]
  },
  {
   "cell_type": "code",
   "execution_count": null,
   "id": "c78f70af",
   "metadata": {},
   "outputs": [],
   "source": []
  }
 ],
 "metadata": {
  "kernelspec": {
   "display_name": "Python 3 (ipykernel)",
   "language": "python",
   "name": "python3"
  },
  "language_info": {
   "codemirror_mode": {
    "name": "ipython",
    "version": 3
   },
   "file_extension": ".py",
   "mimetype": "text/x-python",
   "name": "python",
   "nbconvert_exporter": "python",
   "pygments_lexer": "ipython3",
   "version": "3.10.13"
  }
 },
 "nbformat": 4,
 "nbformat_minor": 5
}
