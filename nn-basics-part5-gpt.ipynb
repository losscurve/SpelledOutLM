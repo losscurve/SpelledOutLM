{
 "cells": [
  {
   "cell_type": "markdown",
   "id": "20e0c9ac",
   "metadata": {},
   "source": [
    "## Build the dataset"
   ]
  },
  {
   "cell_type": "code",
   "execution_count": 1,
   "id": "4f462b91",
   "metadata": {},
   "outputs": [
    {
     "name": "stdout",
     "output_type": "stream",
     "text": [
      "Rachel Green\n",
      "Well, can I keep the presents and still be 29?\n"
     ]
    }
   ],
   "source": [
    "import os\n",
    "import torch\n",
    "from convokit import Corpus, download\n",
    "\n",
    "filename = \"~/.convokit/downloads/friends-corpus\"\n",
    "corpus = Corpus(filename=os.path.expanduser(filename))\n",
    "\n",
    "utterance = corpus.get_utterance('s07_e14_c01_u018')\n",
    "print(utterance.speaker.id)\n",
    "print(utterance.text)"
   ]
  },
  {
   "cell_type": "code",
   "execution_count": 2,
   "id": "95ce4f0d",
   "metadata": {},
   "outputs": [
    {
     "name": "stdout",
     "output_type": "stream",
     "text": [
      "Monica Geller\n",
      "There's nothing to tell! He's just some guy I work with!\n",
      "\n",
      "Joey Tribbiani\n",
      "C'mon, you're going out with the guy! There's gotta be something wrong with him!\n",
      "\n",
      "Chandler Bing\n",
      "All right Joey, be nice. So does he have a hump? A hump and a hairpiece?\n",
      "\n",
      "Phoebe Buffay\n",
      "Wait, does he eat chalk?\n",
      "\n",
      "Phoebe Buffay\n",
      "Just, 'cause, I don't want her to go through what I went through with Carl oh!\n",
      "\n",
      "Monica Geller\n",
      "Okay, everybody relax. This is not even a date. It's just two people going out to dinner and no\n"
     ]
    }
   ],
   "source": [
    "import re\n",
    "re_pattern = \"[^0-9a-zA-Z,.?!' ]\"\n",
    "\n",
    "all_utterance = []\n",
    "\n",
    "for utterance in corpus.iter_utterances():\n",
    "    speaker = utterance.speaker.id\n",
    "    if speaker == \"TRANSCRIPT_NOTE\":\n",
    "        # Only interested in conversations\n",
    "        continue\n",
    "    speaker = re.sub(re_pattern, '', speaker)\n",
    "    text = re.sub(re_pattern, '', utterance.text)\n",
    "    all_utterance.append(f\"{speaker}\\n{text}\")\n",
    "\n",
    "n = int(len(all_utterance) * 0.9)\n",
    "train_data_text = '\\n\\n'.join(all_utterance[:n])\n",
    "val_data_text = '\\n\\n'.join(all_utterance[n:])\n",
    "\n",
    "print(train_data_text[:500])"
   ]
  },
  {
   "cell_type": "code",
   "execution_count": 3,
   "id": "5858461d",
   "metadata": {},
   "outputs": [
    {
     "name": "stdout",
     "output_type": "stream",
     "text": [
      "Dictionary size: 69\n",
      "{'\\n': 0, ' ': 1, '!': 2, \"'\": 3, ',': 4, '.': 5, '0': 6, '1': 7, '2': 8, '3': 9, '4': 10, '5': 11, '6': 12, '7': 13, '8': 14, '9': 15, '?': 16, 'A': 17, 'B': 18, 'C': 19, 'D': 20, 'E': 21, 'F': 22, 'G': 23, 'H': 24, 'I': 25, 'J': 26, 'K': 27, 'L': 28, 'M': 29, 'N': 30, 'O': 31, 'P': 32, 'Q': 33, 'R': 34, 'S': 35, 'T': 36, 'U': 37, 'V': 38, 'W': 39, 'X': 40, 'Y': 41, 'Z': 42, 'a': 43, 'b': 44, 'c': 45, 'd': 46, 'e': 47, 'f': 48, 'g': 49, 'h': 50, 'i': 51, 'j': 52, 'k': 53, 'l': 54, 'm': 55, 'n': 56, 'o': 57, 'p': 58, 'q': 59, 'r': 60, 's': 61, 't': 62, 'u': 63, 'v': 64, 'w': 65, 'x': 66, 'y': 67, 'z': 68}\n"
     ]
    }
   ],
   "source": [
    "all_characters = sorted(list(set(train_data_text)))\n",
    "stoi = {s:i for i, s in enumerate(sorted(all_characters))}\n",
    "itos = {i:s for s, i in stoi.items()}\n",
    "\n",
    "print(\"Dictionary size:\", len(stoi))\n",
    "print(stoi)"
   ]
  },
  {
   "cell_type": "code",
   "execution_count": 4,
   "id": "b6d8b7b9",
   "metadata": {},
   "outputs": [
    {
     "name": "stdout",
     "output_type": "stream",
     "text": [
      "tensor([24, 47, 54, 54, 57,  1, 65, 57, 60, 54, 46])\n",
      "Hello world\n"
     ]
    }
   ],
   "source": [
    "encode = lambda s: torch.tensor([stoi[c] for c in s])\n",
    "decode = lambda c: ''.join([itos[v.item()] for v in c])\n",
    "\n",
    "train_data = encode(train_data_text)\n",
    "val_data = encode(val_data_text)\n",
    "\n",
    "print(encode(\"Hello world\"))\n",
    "print(decode(encode(\"Hello world\")))"
   ]
  },
  {
   "cell_type": "code",
   "execution_count": 5,
   "id": "bf473b69",
   "metadata": {},
   "outputs": [
    {
     "name": "stdout",
     "output_type": "stream",
     "text": [
      "tensor([52, 43, 45, 53, 47, 62,  5,  0]) -> tensor([43, 45, 53, 47, 62,  5,  0,  0])\n",
      "\n",
      "tensor([52]) -> 43\n",
      "j -> a\n",
      "tensor([52, 43]) -> 45\n",
      "ja -> c\n",
      "tensor([52, 43, 45]) -> 53\n",
      "jac -> k\n",
      "tensor([52, 43, 45, 53]) -> 47\n",
      "jack -> e\n",
      "tensor([52, 43, 45, 53, 47]) -> 62\n",
      "jacke -> t\n",
      "tensor([52, 43, 45, 53, 47, 62]) -> 5\n",
      "jacket -> .\n",
      "tensor([52, 43, 45, 53, 47, 62,  5]) -> 0\n",
      "jacket. -> \n",
      "\n",
      "tensor([52, 43, 45, 53, 47, 62,  5,  0]) -> 0\n",
      "jacket.\n",
      " -> \n",
      "\n"
     ]
    }
   ],
   "source": [
    "torch.manual_seed(100)\n",
    "batch_size = 4\n",
    "block_size = 8\n",
    "device = 'cuda' if torch.cuda.is_available() else 'cpu'\n",
    "\n",
    "def get_batch(split):\n",
    "    if split == 'train':\n",
    "        data = train_data\n",
    "    elif split == 'val':\n",
    "        data = val_data\n",
    "\n",
    "    ix = torch.randint(len(data) - block_size, (batch_size,))\n",
    "    x = torch.stack([data[i:i+block_size] for i in ix])\n",
    "    y = torch.stack([data[i+1:i+block_size+1] for i in ix])\n",
    "    x, y = x.to(device), y.to(device)\n",
    "    return (x, y)\n",
    "\n",
    "x, y = get_batch('train')\n",
    "print(x[0], '->', y[0])\n",
    "print()\n",
    "for t in range(block_size):\n",
    "    print(f\"{x[0, :t+1]} -> {y[0, t]}\")\n",
    "    print(f\"{decode(x[0, :t+1])} -> {decode(y[0, t].view(-1))}\")"
   ]
  },
  {
   "cell_type": "markdown",
   "id": "2a6fe530",
   "metadata": {},
   "source": [
    "# A simple MLP"
   ]
  },
  {
   "cell_type": "code",
   "execution_count": 60,
   "id": "217898a1",
   "metadata": {},
   "outputs": [],
   "source": [
    "from torch import nn\n",
    "from torch.nn import functional as F\n",
    "\n",
    "class FeedForward(nn.Module):\n",
    "    def __init__(self, d_emb, d_ff, dropout):\n",
    "        super().__init__()\n",
    "        self.ff = nn.Sequential(\n",
    "            nn.Linear(d_emb, d_ff),\n",
    "            nn.ReLU(),\n",
    "            nn.Linear(d_ff, d_emb),\n",
    "            nn.Dropout(dropout)\n",
    "        )\n",
    "\n",
    "    def forward(self, x):\n",
    "        return self.ff(x)"
   ]
  },
  {
   "cell_type": "code",
   "execution_count": 61,
   "id": "a7fb60c4",
   "metadata": {},
   "outputs": [],
   "source": [
    "d_vocab = len(stoi)\n",
    "d_emb = 64\n",
    "d_ff = 128\n",
    "dropout = 0.1\n",
    "\n",
    "\n",
    "# v0.1\n",
    "class SimpleLanguageModel(nn.Module):\n",
    "    '''Simple Bigram language model with a single feedforward layer'''\n",
    "    def __init__(self, d_vocab, d_emb, d_ff, dropout):\n",
    "        super().__init__()\n",
    "        self.emb = nn.Embedding(d_vocab, d_emb)  # B, T -> B, T, d_emb\n",
    "        self.ffwd = FeedForward(d_emb, d_ff, dropout)  # B, T, d_emb -> B, T, d_emb\n",
    "        self.lm_head = nn.Linear(d_emb, d_vocab)  # B, T, d_emb -> B, T, d_vocab\n",
    "\n",
    "        self.apply(self._init_weights)\n",
    "\n",
    "    def _init_weights(self, module):\n",
    "        if isinstance(module, nn.Linear):\n",
    "            torch.nn.init.normal_(module.weight, mean=0.0, std=0.02)\n",
    "            if module.bias is not None:\n",
    "                torch.nn.init.zeros_(module.bias)\n",
    "        elif isinstance(module, nn.Embedding):\n",
    "            torch.nn.init.normal_(module.weight, mean=0.0, std=0.02)\n",
    "\n",
    "    def forward(self, x, targets=None):\n",
    "        # B, T = x.shape\n",
    "        x = self.emb(x) # B, T, d_emb\n",
    "        logits = self.lm_head(x) # B, T, d_vocab\n",
    "\n",
    "        loss = None\n",
    "        if targets is not None:\n",
    "            B, T, d_vocab = logits.shape\n",
    "            logits = logits.view(-1, d_vocab)\n",
    "            targets = targets.view(B * T)\n",
    "            loss = F.cross_entropy(logits, targets)\n",
    "        return logits, loss\n",
    "\n",
    "    def generate(self, x, n_tokens):\n",
    "        # B, T = x.shape\n",
    "        for _ in range(n_tokens):\n",
    "            x_cond = x[:, -block_size:]\n",
    "            logits, loss = self(x_cond)  # logits: B, T, d_vocab\n",
    "            logits = logits[:, -1, :]  # B, d_vocab\n",
    "            probs = F.softmax(logits, dim=-1)  # B, d_vocab\n",
    "            x_next = torch.multinomial(probs, num_samples=1)  # B, 1\n",
    "            x = torch.cat((x, x_next), dim=1)  # B, T+1\n",
    "        return x"
   ]
  },
  {
   "cell_type": "code",
   "execution_count": 62,
   "id": "9ff65c58",
   "metadata": {},
   "outputs": [],
   "source": [
    "model = SimpleLanguageModel(d_vocab, d_emb, d_ff, dropout).to(device)"
   ]
  },
  {
   "cell_type": "code",
   "execution_count": 63,
   "id": "d6d07a8c",
   "metadata": {},
   "outputs": [
    {
     "name": "stdout",
     "output_type": "stream",
     "text": [
      "torch.Size([8, 69])\n",
      "tensor(4.2338, grad_fn=<NllLossBackward0>)\n"
     ]
    }
   ],
   "source": [
    "xb, yb = get_batch('train')\n",
    "xb, yb = xb[:1], yb[:1]\n",
    "logit, loss = model(xb, yb)\n",
    "print(logit.shape)\n",
    "print(loss)"
   ]
  },
  {
   "cell_type": "code",
   "execution_count": 64,
   "id": "838b7d29",
   "metadata": {},
   "outputs": [],
   "source": [
    "# v0.2 - with the generate function\n",
    "class SimpleLanguageModel(nn.Module):\n",
    "    '''Simple Bigram language model with a single feedforward layer'''\n",
    "    def __init__(self, d_vocab, d_emb, d_ff, dropout):\n",
    "        super().__init__()\n",
    "        self.emb = nn.Embedding(d_vocab, d_emb)  # B, T -> B, T, d_emb\n",
    "        self.ffwd = FeedForward(d_emb, d_ff, dropout)  # B, T, d_emb -> B, T, d_emb\n",
    "        self.lm_head = nn.Linear(d_emb, d_vocab)  # B, T, d_emb -> B, T, d_vocab\n",
    "\n",
    "        self.apply(self._init_weights)\n",
    "\n",
    "    def _init_weights(self, module):\n",
    "        if isinstance(module, nn.Linear):\n",
    "            torch.nn.init.normal_(module.weight, mean=0.0, std=0.02)\n",
    "            if module.bias is not None:\n",
    "                torch.nn.init.zeros_(module.bias)\n",
    "        elif isinstance(module, nn.Embedding):\n",
    "            torch.nn.init.normal_(module.weight, mean=0.0, std=0.02)\n",
    "\n",
    "    def forward(self, x, targets=None):\n",
    "        # B, T = x.shape\n",
    "        x = self.emb(x) # B, T, d_emb\n",
    "        logits = self.lm_head(x) # B, T, d_vocab\n",
    "\n",
    "        loss = None\n",
    "        if targets is not None:\n",
    "            B, T, d_vocab = logits.shape\n",
    "            logits = logits.view(-1, d_vocab)\n",
    "            targets = targets.view(B * T)\n",
    "            loss = F.cross_entropy(logits, targets)\n",
    "        return logits, loss\n",
    "\n",
    "    def generate(self, x, n_tokens):\n",
    "        # B, T = x.shape\n",
    "        for _ in range(n_tokens):\n",
    "            x_cond = x[:, -block_size:]\n",
    "            logits, loss = self(x_cond)  # logits: B, T, d_vocab\n",
    "            logits = logits[:, -1, :]  # B, d_vocab\n",
    "            probs = F.softmax(logits, dim=-1)  # B, d_vocab\n",
    "            x_next = torch.multinomial(probs, num_samples=1)  # B, 1\n",
    "            x = torch.cat((x, x_next), dim=1)  # B, T+1\n",
    "        return x"
   ]
  },
  {
   "cell_type": "code",
   "execution_count": 11,
   "id": "17c32424",
   "metadata": {},
   "outputs": [
    {
     "name": "stdout",
     "output_type": "stream",
     "text": [
      "tensor([[ 0, 62,  4, 66, 56, 65, 20, 29, 16, 43, 28,  0,  8, 50,  3, 55, 13, 65,\n",
      "         55,  7, 15, 61,  0, 47, 43, 52, 28, 15, 64, 57,  2, 14, 14,  6, 24, 61,\n",
      "         55, 56, 28,  3, 35, 31, 30, 21, 16, 56, 18, 49, 59, 38,  1,  7, 38, 16,\n",
      "         61,  5, 32, 25, 49,  6, 44, 27, 47, 35, 30, 59, 35,  4, 24,  9, 57, 64,\n",
      "         43, 66, 51, 10,  0, 28, 62, 24, 44, 65, 40, 37, 14, 67, 51, 63, 57, 56,\n",
      "         10, 65, 28, 42, 28, 54, 38, 65, 43, 24, 33]])\n",
      "\n",
      "t,xnwDM?aL\n",
      "2h'm7wm19s\n",
      "eajL9vo!880HsmnL'SONE?nBgqV 1V?s.PIg0bKeSNqS,H3ovaxi4\n",
      "LtHbwXU8yiuon4wLZLlVwaHQ\n"
     ]
    }
   ],
   "source": [
    "model = SimpleLanguageModel(d_vocab, d_emb, d_ff, dropout).to(device)\n",
    "gen_text = model.generate(x=torch.zeros((1, 1), dtype=torch.long), n_tokens=100)\n",
    "print(gen_text)\n",
    "print(decode(gen_text[0]))"
   ]
  },
  {
   "cell_type": "markdown",
   "id": "c6260435",
   "metadata": {},
   "source": [
    "# Training & Evaluation"
   ]
  },
  {
   "cell_type": "code",
   "execution_count": 12,
   "id": "064d9d76",
   "metadata": {},
   "outputs": [
    {
     "data": {
      "text/plain": [
       "4.234402709007263"
      ]
     },
     "execution_count": 12,
     "metadata": {},
     "output_type": "execute_result"
    }
   ],
   "source": [
    "@torch.no_grad()\n",
    "def estimate_loss(model, eval_iters=200):\n",
    "    model.eval()\n",
    "    total_loss = 0.\n",
    "    for i in range(eval_iters):\n",
    "        x, y = get_batch('val')\n",
    "        logits, loss = model(x, y)\n",
    "        total_loss += loss.item()\n",
    "    return total_loss / eval_iters\n",
    "\n",
    "estimate_loss(model)"
   ]
  },
  {
   "cell_type": "code",
   "execution_count": 13,
   "id": "6d575624",
   "metadata": {},
   "outputs": [],
   "source": [
    "optimizer = torch.optim.AdamW(model.parameters(), lr=1e-3)"
   ]
  },
  {
   "cell_type": "code",
   "execution_count": 14,
   "id": "817fff9c",
   "metadata": {},
   "outputs": [
    {
     "name": "stdout",
     "output_type": "stream",
     "text": [
      "0 4.234487533569336\n",
      "Validation loss: 4.23272953748703\n",
      "5000 2.5389506816864014\n",
      "10000 2.267601728439331\n",
      "15000 2.421492338180542\n",
      "20000 2.291759490966797\n",
      "Validation loss: 2.3960675978660584\n",
      "25000 2.4318416118621826\n",
      "30000 2.4329137802124023\n",
      "35000 2.277162790298462\n",
      "40000 2.3940908908843994\n",
      "Validation loss: 2.405582616329193\n",
      "45000 2.512033462524414\n",
      "50000 2.228994607925415\n",
      "55000 2.5251286029815674\n",
      "60000 2.400392770767212\n",
      "Validation loss: 2.4019481694698332\n",
      "65000 2.4505093097686768\n",
      "70000 2.365840435028076\n",
      "75000 2.348484754562378\n",
      "80000 2.289278268814087\n",
      "Validation loss: 2.40008819937706\n",
      "85000 2.407731056213379\n",
      "90000 2.297285318374634\n",
      "95000 2.272923469543457\n"
     ]
    }
   ],
   "source": [
    "batch_size = 32\n",
    "for steps in range(100000):\n",
    "    xb, yb = get_batch('train')\n",
    "    logits, loss = model(xb, yb)\n",
    "    optimizer.zero_grad(set_to_none=True)\n",
    "    loss.backward()\n",
    "    optimizer.step()\n",
    "\n",
    "    if steps % 5000 == 0:\n",
    "        print(steps, loss.item())\n",
    "        if steps % 20000 == 0:\n",
    "            print(\"Validation loss:\", estimate_loss(model))\n",
    "\n",
    "    # comment out after confirmed it works\n",
    "    # if steps >= 5000:\n",
    "    #     break"
   ]
  },
  {
   "cell_type": "code",
   "execution_count": 19,
   "id": "18868156",
   "metadata": {},
   "outputs": [
    {
     "name": "stdout",
     "output_type": "stream",
     "text": [
      "\n",
      "Yotoey i\n",
      "Molkindoey, ss!\n",
      "Doni\n",
      "Weroe ks t benott'thig I't.\n",
      "\n",
      "\n",
      "Jous jut w, arseeel angh hate. Tars s te\n"
     ]
    }
   ],
   "source": [
    "# Generation\n",
    "print(decode(\n",
    "    model.generate(x=torch.zeros((1, 1), dtype=torch.long), n_tokens=100)[0]\n",
    "))"
   ]
  },
  {
   "cell_type": "markdown",
   "id": "842bb0b2",
   "metadata": {},
   "source": [
    "## Self attention\n",
    "\n",
    "Self attention is a communication mechanism."
   ]
  },
  {
   "cell_type": "code",
   "execution_count": 20,
   "id": "2bf4eab0",
   "metadata": {},
   "outputs": [
    {
     "name": "stdout",
     "output_type": "stream",
     "text": [
      "values = \n",
      " tensor([[5., 8.],\n",
      "        [0., 5.],\n",
      "        [3., 4.]])\n",
      "----------\n",
      "first_k_avg = \n",
      " tensor([[5.0000, 8.0000],\n",
      "        [2.5000, 6.5000],\n",
      "        [2.6667, 5.6667]])\n"
     ]
    }
   ],
   "source": [
    "torch.manual_seed(415)\n",
    "values = torch.randint(0, 10, (3, 2)).float()\n",
    "\n",
    "# Version 1: naive for-loop\n",
    "first_k_avg = torch.empty_like(values)\n",
    "for i in range(first_k_avg.shape[0]):\n",
    "    for j in range(first_k_avg.shape[1]):\n",
    "        first_k_avg[i, j] = values[:i + 1, j].mean()\n",
    "\n",
    "print(\"values = \\n\", values)\n",
    "print('-' * 10)\n",
    "print(\"first_k_avg = \\n\", first_k_avg)"
   ]
  },
  {
   "cell_type": "code",
   "execution_count": 21,
   "id": "6de91d83",
   "metadata": {},
   "outputs": [
    {
     "name": "stdout",
     "output_type": "stream",
     "text": [
      "wei = \n",
      " tensor([[1.0000, 0.0000, 0.0000],\n",
      "        [0.5000, 0.5000, 0.0000],\n",
      "        [0.3333, 0.3333, 0.3333]])\n",
      "----------\n",
      "first_k_avg = \n",
      " tensor([[5.0000, 8.0000],\n",
      "        [2.5000, 6.5000],\n",
      "        [2.6667, 5.6667]])\n"
     ]
    }
   ],
   "source": [
    "# Version 2: mat mul\n",
    "num_rows = values.shape[0]\n",
    "wei = torch.tril(torch.ones(num_rows, num_rows))\n",
    "wei = wei / torch.sum(wei, 1, keepdim=True)\n",
    "print(\"wei = \\n\", wei)\n",
    "print('-' * 10)\n",
    "print(\"first_k_avg = \\n\", wei @ values)"
   ]
  },
  {
   "cell_type": "code",
   "execution_count": 22,
   "id": "39ba4a3c",
   "metadata": {},
   "outputs": [
    {
     "name": "stdout",
     "output_type": "stream",
     "text": [
      "wei before softmax:\n",
      " tensor([[0., -inf, -inf],\n",
      "        [0., 0., -inf],\n",
      "        [0., 0., 0.]])\n",
      "----------\n",
      "wei after softmax:\n",
      " tensor([[1.0000, 0.0000, 0.0000],\n",
      "        [0.5000, 0.5000, 0.0000],\n",
      "        [0.3333, 0.3333, 0.3333]])\n",
      "----------\n",
      "first_k_avg = \n",
      " tensor([[5.0000, 8.0000],\n",
      "        [2.5000, 6.5000],\n",
      "        [2.6667, 5.6667]])\n"
     ]
    }
   ],
   "source": [
    "# Version 3: softmax\n",
    "wei = torch.zeros((num_rows, num_rows))\n",
    "tril = torch.tril(torch.ones_like(wei))\n",
    "wei = wei.masked_fill(tril == 0, float('-inf'))\n",
    "print(\"wei before softmax:\\n\", wei)\n",
    "print('-' * 10)\n",
    "wei = F.softmax(wei, dim=1)\n",
    "print(\"wei after softmax:\\n\", wei)\n",
    "print('-' * 10)\n",
    "print(\"first_k_avg = \\n\", wei @ values)"
   ]
  },
  {
   "cell_type": "code",
   "execution_count": 23,
   "id": "df8e9b50",
   "metadata": {},
   "outputs": [
    {
     "name": "stdout",
     "output_type": "stream",
     "text": [
      "wei:\n",
      " tensor([[[1.0000, 0.0000, 0.0000, 0.0000],\n",
      "         [0.4607, 0.5393, 0.0000, 0.0000],\n",
      "         [0.3991, 0.2089, 0.3920, 0.0000],\n",
      "         [0.2587, 0.2108, 0.2907, 0.2397]],\n",
      "\n",
      "        [[1.0000, 0.0000, 0.0000, 0.0000],\n",
      "         [0.4038, 0.5962, 0.0000, 0.0000],\n",
      "         [0.2823, 0.3892, 0.3285, 0.0000],\n",
      "         [0.2289, 0.2493, 0.2322, 0.2896]],\n",
      "\n",
      "        [[1.0000, 0.0000, 0.0000, 0.0000],\n",
      "         [0.3789, 0.6211, 0.0000, 0.0000],\n",
      "         [0.3268, 0.3199, 0.3533, 0.0000],\n",
      "         [0.1970, 0.2184, 0.2262, 0.3584]],\n",
      "\n",
      "        [[1.0000, 0.0000, 0.0000, 0.0000],\n",
      "         [0.4430, 0.5570, 0.0000, 0.0000],\n",
      "         [0.2956, 0.3503, 0.3541, 0.0000],\n",
      "         [0.2012, 0.2451, 0.2963, 0.2574]]], grad_fn=<SoftmaxBackward0>)\n",
      "----------\n",
      "weight vector for third prediction:\n",
      " tensor([0.3991, 0.2089, 0.3920, 0.0000], grad_fn=<SelectBackward0>)\n",
      "out shape: torch.Size([4, 4, 16])\n"
     ]
    }
   ],
   "source": [
    "# Version 4: serlf attention\n",
    "\n",
    "B, T, C = 4, 4, 32  # batch, time, channels (embeddings)\n",
    "x = torch.randn(B, T, C)\n",
    "\n",
    "# Single head self attention\n",
    "head_size = 16\n",
    "key = nn.Linear(C, head_size, bias=False)\n",
    "query = nn.Linear(C, head_size, bias=False)\n",
    "value = nn.Linear(C, head_size, bias=False)\n",
    "\n",
    "k = key(x)  # (B, T, 16)\n",
    "q = query(x)  # (B, T, 16)\n",
    "wei = q @ k.transpose(-2, -1) * C**-0.5  # (B, T, 16) @ (B, 16, T) -> (B, T, T)\n",
    "\n",
    "tril = torch.tril(torch.ones(T, T))\n",
    "wei = wei.masked_fill(tril == 0, float('-inf'))\n",
    "wei = F.softmax(wei, dim=-1)\n",
    "\n",
    "v = value(x)\n",
    "out = wei @ v\n",
    "\n",
    "print(\"wei:\\n\", wei)\n",
    "print('-' * 10)\n",
    "print(\"weight vector for third prediction:\\n\", wei[0, 2])\n",
    "print(\"out shape:\", out.shape)"
   ]
  },
  {
   "cell_type": "markdown",
   "id": "992aa172",
   "metadata": {},
   "source": [
    "## Notes on Key, Query, Value in self attention\n",
    "\n",
    "Attention is a communication mechanism. It works as a directed graph, passing information along some direction. In text generation, it often involves passing information from past tokens to future tokens.\n",
    "\n",
    "There are three components in self attention mechanism.\n",
    "* Query - Q(x) projects what information x is seeking\n",
    "* Key - K(x) projects what information x contains\n",
    "* Value - V(x) determines what information should be aggregated for the purpose of this single attention head\n",
    "\n",
    "To understand Q, K, V intuitively,\n",
    "* Think of x like private information or private key of a token, it is then projected into the Query, Key, and Value handled by the attention head.\n",
    "* The output of self attention is a weighted sum of the projection V(x), not the tokens themselves. Why?\n",
    "    * It enables us to simultaneously consider various aspects of tokens in different heads after we introduce multi-head attention mechanism next.\n",
    "    * For example, in processing the word \"cat\" within a sentence, different attention heads might aggregate information with regards to its grammatical role (noun), its conceptual meaning as an animal, or its syntactic function as a subject or object. This diversity allows for a richer, more nuanced understanding of text.\n"
   ]
  },
  {
   "cell_type": "code",
   "execution_count": 68,
   "id": "3a46805e",
   "metadata": {},
   "outputs": [],
   "source": [
    "class Head(nn.Module):\n",
    "    '''Single head self attention'''\n",
    "\n",
    "    def __init__(self, d_emb, d_head):\n",
    "        super().__init__()\n",
    "        self.d_head = d_head\n",
    "        self.key = nn.Linear(d_emb, d_head, bias=False)\n",
    "        self.query = nn.Linear(d_emb, d_head, bias=False)\n",
    "        self.value = nn.Linear(d_emb, d_head, bias=False)\n",
    "        self.register_buffer('tril', torch.tril(torch.ones(block_size, block_size)))\n",
    "\n",
    "    def forward(self, x):\n",
    "        # x: B, T, d_emb\n",
    "        k = self.key(x)\n",
    "        q = self.query(x)\n",
    "        v = self.value(x)\n",
    "        wei = q @ k.transpose(-2, -1) * (self.d_head ** -0.5)\n",
    "        wei = wei.masked_fill(self.tril == 0, float('-inf'))\n",
    "        wei = F.softmax(wei, dim=-1)\n",
    "        out = wei @ v\n",
    "        return out\n",
    "\n",
    "\n",
    "class MultiHead(nn.Module):\n",
    "    '''Multi head self attention'''\n",
    "\n",
    "    def __init__(self, num_heads, d_emb, d_head):\n",
    "        super().__init__()\n",
    "        self.heads = nn.ModuleList([Head(d_emb, d_head) for _ in range(num_heads)])\n",
    "        self.proj = nn.Linear(num_heads * d_head, d_emb)\n",
    "\n",
    "    def forward(self, x):\n",
    "        # x: B, T, d_emb\n",
    "        head_out = torch.cat([h(x) for h in self.heads], dim=-1)\n",
    "        out = self.proj(head_out)\n",
    "        return out"
   ]
  },
  {
   "cell_type": "markdown",
   "id": "55af815e",
   "metadata": {},
   "source": [
    "## Final Notes on Attention Mechanism\n",
    "\n",
    "1. **Position Encoding**: Attention mechanisms inherently lack a notion of order, unlike convolutions. Therefore, inputs to the attention mechanism should include positional information to maintain sequence context.\n",
    "2. **Scaled Attention**: To prevent the softmax function from collapsing into a one-hot vector, it's crucial that the weights (Q @ K) are diffused appropriately, hence the need for scaling attention (divided by d_head**0.5).\n",
    "3. **Batch Isolation**: Examples within the same batch do not interact; each instance is processed independently.\n",
    "4. **Transformer Architecture Variations**:\n",
    "    - **Decoder Block**: Restricts information flow to prevent future tokens from influencing the output, typically used in output generation phases.\n",
    "    - **Encoder Block**: Allows free communication among all nodes, fully utilizing context, typically used in input interpretation phases.\n",
    "    - **Application in the Transformer paper**: In context of machine translation, the original paper uses Encoder Blocks for source language text, encoding full contextual understanding, and uses Decoder Blocks for target language text, ensuring generated content is influenced only by preceding text and the source content.\n",
    "\n",
    "In addition to self-attention, a transformer block comprises:\n",
    "\n",
    "- **Computation Layer**: a feedforward network computes over the aggregated information, but on per token basis (no communication between two tokens at this step)\n",
    "- **Optimization Techniques for Deep Networks**:\n",
    "    - **Residual Connection**: Facilitates learning by creating shortcuts for gradients, acting as a \"super-highway\" for backpropagation.\n",
    "    - **Layer Normalization**: Standardizes the inputs to each layer, ensuring consistent scale and aiding in stable training.\n",
    "    - **Dropout**: Randomly omits a subset of features at each layer to prevent overfitting and encourage generalized representations."
   ]
  },
  {
   "cell_type": "markdown",
   "id": "7f02b6dc",
   "metadata": {},
   "source": [
    "## Attention Block"
   ]
  },
  {
   "cell_type": "code",
   "execution_count": 69,
   "id": "1e7183f2",
   "metadata": {},
   "outputs": [],
   "source": [
    "class LayerNorm1d:\n",
    "    '''Layer normalization over the last dimension'''\n",
    "\n",
    "    def __init__(self, dim, eps=1e-5):\n",
    "        self.eps = eps\n",
    "        self.gamma = torch.ones(dim)\n",
    "        self.beta = torch.zeros(dim)\n",
    "\n",
    "    def __call__(self, x):\n",
    "        # In batch norm, we aggregate over columns\n",
    "        # In layer norm, we aggregate over rows\n",
    "        xmean = x.mean(1, keepdim=True)\n",
    "        xvar = x.var(1, keepdim=True)\n",
    "        xhat = (x - xmean) / torch.sqrt(xvar + self.eps)\n",
    "        self.out = self.gamma * xhat + self.beta\n",
    "        return self.out\n",
    "\n",
    "    def parameters(self):\n",
    "        return [self.gamma, self.beta]"
   ]
  },
  {
   "cell_type": "code",
   "execution_count": 70,
   "id": "c534accc",
   "metadata": {},
   "outputs": [],
   "source": [
    "class TransformerBlock(nn.Module):\n",
    "    '''Transformer block with multi-head attention and feedforward'''\n",
    "\n",
    "    def __init__(self, n_emb, n_head):\n",
    "        super().__init__()\n",
    "        d_head = n_emb // n_head\n",
    "        self.attn = MultiHead(n_head, n_emb, d_head)\n",
    "        self.ffwd = FeedForward(n_emb, n_emb, dropout=0.1)\n",
    "        self.ln1 = LayerNorm1d(n_emb)\n",
    "        self.ln2 = LayerNorm1d(n_emb)\n",
    "\n",
    "    def forward(self, x):\n",
    "        # x: B, T, n_emb\n",
    "        # with residual connection\n",
    "        x = x + self.attn(self.ln1(x))\n",
    "        x = x + self.ffwd(self.ln2(x))\n",
    "        return x"
   ]
  },
  {
   "cell_type": "code",
   "execution_count": 71,
   "id": "be931d4b",
   "metadata": {},
   "outputs": [],
   "source": [
    "# v0.3 - with the transformer block\n",
    "class SimpleLanguageModelWithTransformer(nn.Module):\n",
    "    '''Simple Bigram language model with transformer layers'''\n",
    "    def __init__(self, d_vocab, d_emb, num_heads, n_layers):\n",
    "        super().__init__()\n",
    "        self.token_emb = nn.Embedding(d_vocab, d_emb)  # B, T -> B, T, d_emb\n",
    "        self.position_emb = nn.Embedding(block_size, d_emb)  # B, T -> B, T, d_emb\n",
    "        # Note: Changed here\n",
    "        # self.ffwd = FeedForward(d_emb, d_ff, dropout)  # B, T, d_emb -> B, T, d_emb\n",
    "        self.blocks = nn.Sequential(\n",
    "            *[TransformerBlock(d_emb, num_heads) for _ in range(n_layers)]\n",
    "        )\n",
    "        self.ln_final = LayerNorm1d(d_emb)\n",
    "        self.lm_head = nn.Linear(d_emb, d_vocab)  # B, T, d_emb -> B, T, d_vocab\n",
    "\n",
    "        self.apply(self._init_weights)\n",
    "\n",
    "    def _init_weights(self, module):\n",
    "        if isinstance(module, nn.Linear):\n",
    "            torch.nn.init.normal_(module.weight, mean=0.0, std=0.02)\n",
    "            if module.bias is not None:\n",
    "                torch.nn.init.zeros_(module.bias)\n",
    "        elif isinstance(module, nn.Embedding):\n",
    "            torch.nn.init.normal_(module.weight, mean=0.0, std=0.02)\n",
    "\n",
    "    def forward(self, x, targets=None):\n",
    "        _, T = x.shape\n",
    "        token_emb = self.token_emb(x) # B, T, d_emb\n",
    "        pos_emb = self.position_emb(torch.arange(T, device=device))\n",
    "        x = token_emb + pos_emb\n",
    "        x = self.blocks(x)\n",
    "        x = self.ln_final(x)\n",
    "        logits = self.lm_head(x) # B, T, d_vocab\n",
    "\n",
    "        loss = None\n",
    "        if targets is not None:\n",
    "            B, T, d_vocab = logits.shape\n",
    "            logits = logits.view(-1, d_vocab)\n",
    "            targets = targets.view(B * T)\n",
    "            loss = F.cross_entropy(logits, targets)\n",
    "        return logits, loss\n",
    "\n",
    "    def generate(self, x, n_tokens):\n",
    "        # B, T = x.shape\n",
    "        for _ in range(n_tokens):\n",
    "            x_cond = x[:, -block_size:]\n",
    "            logits, loss = self(x_cond)  # logits: B, T, d_vocab\n",
    "            logits = logits[:, -1, :]  # B, d_vocab\n",
    "            probs = F.softmax(logits, dim=-1)  # B, d_vocab\n",
    "            x_next = torch.multinomial(probs, num_samples=1)  # B, 1\n",
    "            x = torch.cat((x, x_next), dim=1)  # B, T+1\n",
    "        return x"
   ]
  },
  {
   "cell_type": "code",
   "execution_count": 72,
   "id": "ca14a08d",
   "metadata": {},
   "outputs": [
    {
     "name": "stdout",
     "output_type": "stream",
     "text": [
      "58949\n"
     ]
    }
   ],
   "source": [
    "n_layer = 2\n",
    "num_heads = 4\n",
    "model = SimpleLanguageModelWithTransformer(d_vocab, d_emb, num_heads, n_layer)\n",
    "model = model.to(device)\n",
    "print(sum(p.numel() for p in model.parameters() if p.requires_grad))"
   ]
  },
  {
   "cell_type": "code",
   "execution_count": 79,
   "id": "ccea345f",
   "metadata": {},
   "outputs": [
    {
     "name": "stdout",
     "output_type": "stream",
     "text": [
      "0 0.24773478507995605\n",
      "Validation loss: 0.30973424449563025\n",
      "5000 0.27425718307495117\n",
      "10000 0.21987920999526978\n",
      "15000 0.18086157739162445\n",
      "20000 0.21900688111782074\n",
      "Validation loss: 0.22092035230249166\n",
      "25000 0.15958018600940704\n",
      "30000 0.17139407992362976\n",
      "35000 0.19953906536102295\n",
      "40000 0.2372569739818573\n",
      "Validation loss: 0.22083871014416218\n",
      "45000 0.29703056812286377\n",
      "50000 0.2268242985010147\n",
      "55000 0.22745905816555023\n",
      "60000 0.18956774473190308\n",
      "Validation loss: 0.20059844925999643\n",
      "65000 0.18979783356189728\n",
      "70000 0.23059050738811493\n",
      "75000 0.1879863440990448\n",
      "80000 0.2020922303199768\n",
      "Validation loss: 0.20507150873541832\n",
      "85000 0.19734027981758118\n",
      "90000 0.18905195593833923\n",
      "95000 0.1357641965150833\n"
     ]
    }
   ],
   "source": [
    "optimizer = torch.optim.AdamW(model.parameters(), lr=1e-3)\n",
    "batch_size = 32\n",
    "for steps in range(100000):\n",
    "    xb, yb = get_batch('train')\n",
    "    logits, loss = model(xb, yb)\n",
    "    optimizer.zero_grad(set_to_none=True)\n",
    "    loss.backward()\n",
    "    optimizer.step()\n",
    "\n",
    "    if steps % 5000 == 0:\n",
    "        print(steps, loss.item())\n",
    "        if steps % 20000 == 0:\n",
    "            print(\"Validation loss:\", estimate_loss(model))\n",
    "\n",
    "    # comment out after confirmed it works\n",
    "    # if steps >= 5000:\n",
    "    #     break"
   ]
  },
  {
   "cell_type": "code",
   "execution_count": 84,
   "id": "bbfb2da0",
   "metadata": {},
   "outputs": [
    {
     "name": "stdout",
     "output_type": "stream",
     "text": [
      "Validation loss: 0.2010563813149929\n"
     ]
    }
   ],
   "source": [
    "print(\"Validation loss:\", estimate_loss(model))"
   ]
  },
  {
   "cell_type": "code",
   "execution_count": 91,
   "id": "6a5d83d1",
   "metadata": {},
   "outputs": [
    {
     "name": "stdout",
     "output_type": "stream",
     "text": [
      "lod.?!\n",
      "\n",
      "Rossch\n",
      "Monica?\n",
      "\n",
      "Joey Tribbiani\n",
      "I do. Thanks.\n",
      "\n",
      "Ross Geller\n",
      "The but werk, man't my my ean that you're no..... No!ly you mose no printen!\n",
      "\n",
      "Chandler Binger.\n",
      "\n",
      "Rachel Green\n",
      "Uhhh?\n",
      "\n",
      "Pecae\n",
      "All right, sho?\n",
      "\n",
      "Monica Geller\n",
      "I and! ot on my the bot? It's not for juss so roundin' shote.\n",
      "\n",
      "Phoebe Buffay\n",
      "Ohho, Ross!!\n",
      "\n",
      "Ross Geller\n",
      "You long?\n",
      "\n",
      "Chandler Bing\n",
      "It's not?\n",
      "\n",
      "bode?\n",
      "\n",
      "Rachel Green\n",
      "All not.\n",
      "\n",
      "Ross Geller\n",
      "WhoI and at try?\n",
      "\n",
      "Rachel Green\n",
      "So han. Well II lies.\n",
      "\n",
      "Ross Geller\n",
      "Ross Geller\n",
      "Oat....\n",
      "\n",
      "Chandler Bing\n"
     ]
    }
   ],
   "source": [
    "# Generation\n",
    "print(decode(\n",
    "    model.generate(x=torch.zeros((1, 8), dtype=torch.long), n_tokens=500)[0][8:]\n",
    "))"
   ]
  },
  {
   "cell_type": "code",
   "execution_count": null,
   "id": "149908c6",
   "metadata": {},
   "outputs": [],
   "source": []
  },
  {
   "cell_type": "code",
   "execution_count": null,
   "id": "38054cf7",
   "metadata": {},
   "outputs": [],
   "source": []
  },
  {
   "cell_type": "code",
   "execution_count": null,
   "id": "c977df1a",
   "metadata": {},
   "outputs": [],
   "source": []
  },
  {
   "cell_type": "code",
   "execution_count": null,
   "id": "298b21eb",
   "metadata": {},
   "outputs": [],
   "source": []
  },
  {
   "cell_type": "code",
   "execution_count": null,
   "id": "5aea01cb",
   "metadata": {},
   "outputs": [],
   "source": []
  },
  {
   "cell_type": "code",
   "execution_count": 31,
   "id": "7fb73946",
   "metadata": {},
   "outputs": [],
   "source": [
    "import torch\n",
    "import torch.nn.functional as F\n",
    "\n",
    "\n",
    "class Linear:\n",
    "    def __init__(self, fan_in, fan_out, bias=True):\n",
    "        self.weight = torch.randn((fan_in, fan_out))\n",
    "        self.bias = torch.zeros(fan_out) if bias else None\n",
    "\n",
    "    def __call__(self, x):\n",
    "        self.out = x @ self.weight\n",
    "        if self.bias is not None:\n",
    "            self.out += self.bias\n",
    "        return self.out\n",
    "\n",
    "    def parameters(self):\n",
    "        return [self.weight] + ([] if self.bias is None else [self.bias])\n",
    "\n",
    "class Tanh:\n",
    "    def __call__(self, x):\n",
    "        self.out = torch.tanh(x)\n",
    "        return self.out\n",
    "\n",
    "    def parameters(self):\n",
    "        return []\n",
    "\n",
    "# Map the context characters to an embedding vector\n",
    "class Embedding:\n",
    "    def __init__(self, vocab_size, embedding_dim):\n",
    "        self.embedding_dim = embedding_dim\n",
    "        self.weight = torch.randn((vocab_size, embedding_dim))\n",
    "\n",
    "    def __call__(self, x):\n",
    "        self.out = self.weight[x]\n",
    "        return self.out\n",
    "\n",
    "    def parameters(self):\n",
    "        return [self.weight]\n",
    "\n",
    "\n",
    "class BatchNorm1d:\n",
    "    def __init__(self, dim, eps=1e-5, momentum=0.1):\n",
    "        self.eps = eps\n",
    "        self.momentum = momentum\n",
    "        self.training = True\n",
    "        # parameters\n",
    "        self.gamma = torch.ones(dim)\n",
    "        self.beta = torch.zeros(dim)\n",
    "        # moving average\n",
    "        self.running_mean = torch.zeros(dim)\n",
    "        self.running_var = torch.ones(dim)\n",
    "\n",
    "    def __call__(self, x):\n",
    "        # forward pass\n",
    "        if self.training:\n",
    "            xmean = x.mean(dim=0, keepdim=True)\n",
    "            xvar = x.var(dim=0, keepdim=True)\n",
    "        else:\n",
    "            xmean = self.running_mean\n",
    "            xvar = self.running_var\n",
    "        # normalize input\n",
    "        xhat = (x - xmean) / torch.sqrt(xvar + self.eps)\n",
    "        self.out = self.gamma * xhat + self.beta\n",
    "        # update moving average\n",
    "        if self.training:\n",
    "            with torch.no_grad():\n",
    "                self.running_mean = self.momentum * xmean + (1 - self.momentum) * self.running_mean\n",
    "                self.running_var = self.momentum * xvar + (1 - self.momentum) * self.running_var\n",
    "        return self.out\n",
    "\n",
    "    def parameters(self):\n",
    "        return [self.gamma, self.beta]"
   ]
  },
  {
   "cell_type": "code",
   "execution_count": 32,
   "id": "820c3b67",
   "metadata": {},
   "outputs": [],
   "source": [
    "class Sequential:\n",
    "    def __init__(self, layers):\n",
    "        self.layers = layers\n",
    "\n",
    "    def __call__(self, x):\n",
    "        for layer in self.layers:\n",
    "            x = layer(x)\n",
    "        self.out = x\n",
    "        return self.out\n",
    "\n",
    "    def parameters(self):\n",
    "        return [p for layer in self.layers for p in layer.parameters()]"
   ]
  },
  {
   "cell_type": "markdown",
   "id": "dc5227ef",
   "metadata": {},
   "source": []
  },
  {
   "cell_type": "code",
   "execution_count": null,
   "id": "e27fc874",
   "metadata": {},
   "outputs": [],
   "source": []
  },
  {
   "cell_type": "code",
   "execution_count": null,
   "id": "1f7c814a",
   "metadata": {},
   "outputs": [],
   "source": []
  },
  {
   "cell_type": "code",
   "execution_count": 40,
   "id": "576d9b2e",
   "metadata": {},
   "outputs": [
    {
     "data": {
      "text/plain": [
       "[<matplotlib.lines.Line2D at 0x2a4ecf280>]"
      ]
     },
     "execution_count": 40,
     "metadata": {},
     "output_type": "execute_result"
    },
    {
     "data": {
      "image/png": "[encoded data removed]",
      "text/plain": [
       "<Figure size 640x480 with 1 Axes>"
      ]
     },
     "metadata": {},
     "output_type": "display_data"
    }
   ],
   "source": [
    "from matplotlib import pyplot as plt\n",
    "%matplotlib inline\n",
    "\n",
    "plt.plot(\n",
    "    # lossi\n",
    "    torch.tensor(lossi).view(-1, 100).mean(dim=1).flatten().tolist()\n",
    ")"
   ]
  },
  {
   "cell_type": "markdown",
   "id": "601f25ec",
   "metadata": {},
   "source": [
    "## Evaluation"
   ]
  },
  {
   "cell_type": "code",
   "execution_count": 42,
   "id": "68075e4c",
   "metadata": {},
   "outputs": [],
   "source": [
    "for layer in model.layers:\n",
    "    layer.training = False"
   ]
  },
  {
   "cell_type": "code",
   "execution_count": 44,
   "id": "cb08f37f",
   "metadata": {},
   "outputs": [
    {
     "data": {
      "text/plain": [
       "(1.6969759464263916, 1.6934974193572998)"
      ]
     },
     "execution_count": 44,
     "metadata": {},
     "output_type": "execute_result"
    }
   ],
   "source": [
    "def evaluation(X, Y):\n",
    "    with torch.no_grad():\n",
    "        logits = model(X)\n",
    "        loss = F.cross_entropy(logits, Y)\n",
    "    return loss.item()\n",
    "\n",
    "evaluation(Xtr, Ytr), evaluation(Xval, Yval)"
   ]
  },
  {
   "cell_type": "code",
   "execution_count": 48,
   "id": "aa4ce3b2",
   "metadata": {},
   "outputs": [
    {
     "name": "stdout",
     "output_type": "stream",
     "text": [
      "Oh my God! That's like ontease 'it.\n",
      "Oh I can't lot not gonna does loterder the get this is of. We at's to you meor, but wascryes it.\n",
      "What I do the ins. well yours.\n",
      "I may a secfirthe'd that's not gonna know......I'd Bo to Stein.\n",
      "Oh homall bigbit?\n",
      "In tish.\n",
      "Reastand then insiar, everying the preet?\n",
      "I knay, hey, she ganss stumpreanding in out 1 be some.\n",
      "This nowonow.!\n",
      "Why cine ume.\n"
     ]
    }
   ],
   "source": [
    "for _ in range(10):\n",
    "    out = []\n",
    "    context = [0] * block_size\n",
    "    while True:\n",
    "        X = torch.tensor([context]) # (1, block_size)\n",
    "        with torch.no_grad():\n",
    "            logits = model(X)\n",
    "            prob = F.softmax(logits, dim=1)\n",
    "            ix = torch.multinomial(prob, num_samples=1).item()\n",
    "        context = context[1:] + [ix]\n",
    "        if ix == 0:\n",
    "            break\n",
    "        out.append(ix)\n",
    "    print(''.join([itos[i] for i in out]))"
   ]
  }
 ],
 "metadata": {
  "kernelspec": {
   "display_name": "Python 3 (ipykernel)",
   "language": "python",
   "name": "python3"
  },
  "language_info": {
   "codemirror_mode": {
    "name": "ipython",
    "version": 3
   },
   "file_extension": ".py",
   "mimetype": "text/x-python",
   "name": "python",
   "nbconvert_exporter": "python",
   "pygments_lexer": "ipython3",
   "version": "3.10.13"
  }
 },
 "nbformat": 4,
 "nbformat_minor": 5
}
